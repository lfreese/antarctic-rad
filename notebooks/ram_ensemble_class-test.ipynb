{
 "cells": [
  {
   "cell_type": "code",
   "execution_count": null,
   "metadata": {},
   "outputs": [],
   "source": [
    "class ram_ensemble():\n",
    "    def __init__(self, ds):\n",
    "        #ram dict to find average surface diffk\n",
    "        self.ram_dict_avg_diffk = {}\n",
    "        self.ram_dict_avg_diffk = fill_ensemble(ds, self.ram_dict_avg_diffk, surface_diffk = None)\n",
    "        average_surface_diffk = annual_mean_sfc_diffk(ram_dict_avg_diffk)\n",
    "        \n",
    "    def fill_ensemble(ds, ram_dict, surface_diffk):\n",
    "        for CO2 in ds['CO2_list'].values:\n",
    "            ram_dict[CO2] = {}\n",
    "            for m in np.asarray(ds['month']):\n",
    "                ram = ram_model.init_ram(ds, m, .00038, surface_diffk)\n",
    "                ram_dict[CO2][m] = {}\n",
    "                ram_dict[CO2][m] = ram\n",
    "        return ram_dict\n",
    "        \n",
    "    def annual_mean_sfc_diffk(ram_dict):\n",
    "        sum_surface_diffk = 0\n",
    "        for m in np.asarray(ds['month']):\n",
    "                sum_surface_diffk += ram_dict[0.00038][m].surface_diffk\n",
    "        average_surface_diffk = sum_surface_diffk/12\n",
    "        return average_surface_diffk\n",
    "        \n",
    "\n",
    "        \n",
    "    def first_timestep(self):\n",
    "        #ram dict for initial state with average surface diffk\n",
    "        ram_dict = {}\n",
    "        ram_dict = fill_ensemble(ds, ram_dict, surface_diffk = average_surface_diffk)\n",
    "        \n"
   ]
  }
 ],
 "metadata": {
  "kernelspec": {
   "display_name": "Python 3",
   "language": "python",
   "name": "python3"
  },
  "language_info": {
   "codemirror_mode": {
    "name": "ipython",
    "version": 3
   },
   "file_extension": ".py",
   "mimetype": "text/x-python",
   "name": "python",
   "nbconvert_exporter": "python",
   "pygments_lexer": "ipython3",
   "version": "3.7.5"
  }
 },
 "nbformat": 4,
 "nbformat_minor": 4
}
