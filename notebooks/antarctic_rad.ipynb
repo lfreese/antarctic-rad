{
 "cells": [
  {
   "cell_type": "code",
   "execution_count": 1,
   "metadata": {},
   "outputs": [],
   "source": [
    "from __future__ import print_function, division"
   ]
  },
  {
   "cell_type": "code",
   "execution_count": 3,
   "metadata": {},
   "outputs": [],
   "source": [
    "%matplotlib inline\n",
    "import matplotlib.pyplot as plt\n",
    "import qgrid\n",
    "\n",
    "import numpy as np\n",
    "from numpy import diff\n",
    "import math\n",
    "\n",
    "import pandas as pd\n",
    "import xarray as xr\n",
    "\n",
    "import climlab\n",
    "from climlab.solar.insolation import daily_insolation\n",
    "from climlab.radiation import DailyInsolation\n",
    "from climlab.radiation import FixedInsolation\n",
    "from climlab.process import TimeDependentProcess"
   ]
  },
  {
   "cell_type": "code",
   "execution_count": 4,
   "metadata": {},
   "outputs": [],
   "source": [
    "###### create a Turbulence class #######\n",
    "class Turbulence(TimeDependentProcess):\n",
    "    #class turbulence that decays with height computed from:\n",
    "    # theta = Tatm(P0/Patm)^R/Cp\n",
    "    # k0 = Net surface flux/(dtheta/dz) at surface \n",
    "    # ka = k0*exp(-z/d) in atmosphere\n",
    "    # -ka * dtheta/dz is turbulent flux in the atmosphere \n",
    "    \n",
    "    def __init__(self, **kwargs):\n",
    "        #define initial state\n",
    "        super(Turbulence, self).__init__(**kwargs)\n",
    "        self.experiment = experiment\n",
    "        self.time_type = 'explicit'\n",
    "        self._hr = {}\n",
    "        for var in self.state:\n",
    "            self._hr[var] = 0. *self.state[var]\n",
    "        ### define new levels\n",
    "        #n+1 pressure level (lev_boundsin climlab) reworked so that we are no longer using 0 and 1000 as our TOA and surface\n",
    "        self.lev_bounds[0] = self.lev_bounds[1]-2*(self.lev_bounds[1] - self.lev[0])\n",
    "        self.lev_bounds[-1] = self.lev_bounds[-2]+2*(self.lev[-1] - self.lev_bounds[-2])\n",
    "        #altitude (n)\n",
    "        self._z = (self.experiment['Altitude'].sel(month = m))- self.experiment['Altitude'].sel(month = m, level=0)\n",
    "        self._z_ground = self.experiment['Altitude'].sel(month = m, level = 0)\n",
    "        #altitude bounds (n+1)\n",
    "        self._z_bounds = np.zeros(len(state['Tatm']) +1)\n",
    "        self._z_bounds[0] =  (ds['Altitude'].sel(month = m, level = len(self.experiment.level)+1)) -self._z_ground\n",
    "        for n in range(len(state['Tatm'])-1):\n",
    "            self._z_bounds[n+1] = ((self.experiment['Altitude'].sel(month = m)[n]+self.experiment['Altitude'].sel(month = m)[n+1])/2) - self._z_ground\n",
    "        self._z_bounds[-1] = -self._z_bounds[-2]\n",
    "        ### calculate turbulent flux\n",
    "        #surface flux (LW + SW)\n",
    "        self._total_sfc_flux_init = (rad.diagnostics['LW_flux_net_clr'] + rad.diagnostics['SW_flux_net_clr'])[-1]\n",
    "        #gas constant / specific heat of air\n",
    "        R = 287 #gas constant of air J/kg*K (at 250 K)\n",
    "        cp = 1003 #specific heat of air (at 250 K) J/kg*K\n",
    "        self.R_cp = R/cp #theta (length of n)\n",
    "        self._theta_init = self.state['Tatm']*((self.lev[-1]/self.lev)**(self.R_cp)) \n",
    "        #dtheta_dz_init (just need the first value of dtheta/dz)\n",
    "        self._dtheta_dz_surf_init = (np.diff(self._theta_init)/np.diff(self._z))[-1]\n",
    "        #surface diffk\n",
    "        self._surface_diffk = -self._total_sfc_flux_init/self._dtheta_dz_surf_init\n",
    "        #atmospheric diffk\n",
    "        scale_factor = 1000\n",
    "        self._atm_diffk = self._surface_diffk * (np.exp(-self._z_bounds/scale_factor)) \n",
    "        \n",
    "\n",
    "    def _compute(self):\n",
    "        #constants\n",
    "        density = 1.05 #density of air kg/m3\n",
    "        cp = 1003 #specific heat of air (at 250 K) J/kg*K\n",
    "        #surface flux (LW + SW)\n",
    "        self._total_sfc_flux = (rad.diagnostics['LW_flux_net_clr'] + rad.diagnostics['SW_flux_net_clr'])[-1]\n",
    "        #theta (length of n)\n",
    "        self._theta = self.state['Tatm']*((self.lev[-1]/self.lev)**(self.R_cp)) \n",
    "        #dtheta_dz_init (length of n+1)\n",
    "        self._dtheta_dz = np.zeros(len(state['Tatm']) +1)\n",
    "        self._dtheta_dz[1:-1] = np.diff(self._theta)/np.diff(self._z)\n",
    "        self._dtheta_dz[0] =  0 #TOA flux is zero\n",
    "        self._dtheta_dz[-1] =  -self._total_sfc_flux/self._surface_diffk #total ground flux is zero, so turbulent flux + LW/SW flux = 0\n",
    "        #calculate the turbulent flux\n",
    "        self._turbulent_flux = -self._atm_diffk * self._dtheta_dz\n",
    "        # calculate heating rate (flux convergence) from flux and convert into K/day (which is the heating rate output in climlab)\n",
    "        self._hr = (np.diff(self._turbulent_flux)/np.diff(self._z_bounds)) * (1/(density*cp)* climlab.constants.seconds_per_day)\n",
    "        tendencies = {'Tatm' : self._hr}\n",
    "        return tendencies"
   ]
  },
  {
   "cell_type": "code",
   "execution_count": null,
   "metadata": {},
   "outputs": [],
   "source": []
  },
  {
   "cell_type": "code",
   "execution_count": null,
   "metadata": {},
   "outputs": [],
   "source": []
  }
 ],
 "metadata": {
  "kernelspec": {
   "display_name": "Python 3",
   "language": "python",
   "name": "python3"
  },
  "language_info": {
   "codemirror_mode": {
    "name": "ipython",
    "version": 3
   },
   "file_extension": ".py",
   "mimetype": "text/x-python",
   "name": "python",
   "nbconvert_exporter": "python",
   "pygments_lexer": "ipython3",
   "version": "3.7.5"
  }
 },
 "nbformat": 4,
 "nbformat_minor": 4
}
