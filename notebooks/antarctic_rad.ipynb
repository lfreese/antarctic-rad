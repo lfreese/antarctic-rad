{
 "cells": [
  {
   "cell_type": "code",
   "execution_count": null,
   "metadata": {},
   "outputs": [],
   "source": [
    "#### plot diagnostics to see turbulence, theta, dtheta/dz ####\n",
    "def plot_diagnostics(experiment, CO2, month):\n",
    "    fig, ax = plt.subplots(4,2,figsize = (14,14), constrained_layout=True)\n",
    "    fig.suptitle(month, fontsize =16)\n",
    "    ax[0,0].plot(ram_dict[experiment][CO2][month].subprocess.Turbulence.atm_diffk, ram_dict[experiment][CO2][month].subprocess.Turbulence.z_bounds) \n",
    "    ax[0,0].set_title('Atmospheric Kappa (m^2/s)')\n",
    "    ax[0,0].set_xlabel('Kappa (m^2/s)')\n",
    "    ax[0,0].set_ylabel('Altitude (m)')\n",
    "    \n",
    "    ax[0,1].plot(ram_dict[experiment][CO2][month].subprocess.Turbulence.theta_init, ram_dict[experiment][CO2][month].subprocess.Turbulence.z)\n",
    "    ax[0,1].set_title('Theta (K)')\n",
    "    ax[0,1].set_xlabel('Theta (K)')\n",
    "    ax[0,1].set_ylabel('Altitude (m)')\n",
    "\n",
    "    ax[1,0].plot(ram_dict[experiment][CO2][month].subprocess.Turbulence.dtheta_dz, ram_dict[experiment][CO2][month].subprocess.Turbulence.z_bounds)\n",
    "    ax[1,0].set_title('dtheta/dz (K/m)')\n",
    "    ax[1,0].set_xlabel('dtheta/dz (K/m)')\n",
    "    ax[1,0].set_ylabel('Altitude (m)')\n",
    "    \n",
    "    ax[1,1].plot(ram_dict[experiment][CO2][month].subprocess.Advection.forcing_tendencies['Tatm'], ram_dict[experiment][CO2][month].subprocess.Turbulence.z[:-1])\n",
    "    ax[1,1].set_title('Advective Heating Rate (K/sec)')\n",
    "    ax[1,1].set_xlabel('Advection (K/sec)')\n",
    "    ax[1,1].set_ylabel('Altitude (m)')\n",
    "    \n",
    "    ax[2,1].plot(ram_dict[experiment][CO2][month].subprocess.Turbulence.hr, ram_dict[experiment][CO2][month].subprocess.Turbulence.z)\n",
    "    ax[2,1].set_title('Turbulent Heating Rate (K/sec)')\n",
    "    ax[2,1].set_xlabel('Turbulent Heating Rate (K/sec)')\n",
    "    ax[2,1].set_ylabel('Altitude (m)')\n",
    "    ax[2,1].set_ylim(-100,1000)\n",
    "\n",
    "    ax[2,0].plot((np.pad(np.asarray(ram_dict[experiment][CO2][month].TdotSW_clr),pad_width = (0, 1))-np.pad(np.asarray(ram_dict[experiment][CO2][month].TdotLW_clr),pad_width = (0, 1)) - ram_dict[experiment][CO2][month].subprocess.Turbulence._hr), ram_dict[experiment][CO2][month].subprocess.Turbulence._z)\n",
    "    ax[2,0].set_title('Radiative and Turbulent Heating Rate (K/day)')\n",
    "    ax[2,0].set_xlabel('Radiative Heating Rate (K/day)')\n",
    "    ax[2,0].set_ylabel('Altitude (m)')\n",
    "    \n",
    "    ax[3,0].plot((ram_dict[experiment][CO2][month].TdotLW_clr), ram_dict[experiment][CO2][month].subprocess.Turbulence.z[:-1])\n",
    "    ax[3,0].set_title('LW Heating Rate (K/day)')\n",
    "    ax[3,0].set_xlabel('Heating Rate (K/day)')\n",
    "    ax[3,0].set_ylabel('Altitude (m)')\n",
    "    \n",
    "    ax[3,1].plot((ram_dict[experiment][CO2][month].TdotSW_clr), ram_dict[experiment][CO2][month].subprocess.Turbulence.z[:-1])\n",
    "    ax[3,1].set_title('SW Heating Rate (K/day)')\n",
    "    ax[3,1].set_xlabel('Heating Rate (K/day)')\n",
    "    ax[3,1].set_ylabel('Altitude (m)')"
   ]
  }
 ],
 "metadata": {
  "kernelspec": {
   "display_name": "Python 3",
   "language": "python",
   "name": "python3"
  },
  "language_info": {
   "codemirror_mode": {
    "name": "ipython",
    "version": 3
   },
   "file_extension": ".py",
   "mimetype": "text/x-python",
   "name": "python",
   "nbconvert_exporter": "python",
   "pygments_lexer": "ipython3",
   "version": "3.7.5"
  }
 },
 "nbformat": 4,
 "nbformat_minor": 4
}
