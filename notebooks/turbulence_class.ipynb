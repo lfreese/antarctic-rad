{
 "cells": [
  {
   "cell_type": "code",
   "execution_count": 52,
   "metadata": {},
   "outputs": [],
   "source": [
    "import climlab\n",
    "from climlab.process import TimeDependentProcess\n",
    "import pandas as pd\n",
    "import xarray as xr\n",
    "import numpy as np\n",
    "from attrdict import AttrDict\n"
   ]
  },
  {
   "cell_type": "code",
   "execution_count": 54,
   "metadata": {},
   "outputs": [],
   "source": [
    "#create a turbulence class\n",
    "class Turbulence(TimeDependentProcess):\n",
    "    #class turbulence that decays with height computed from:\n",
    "    # theta = Tatm(P0/Patm)^R/Cp\n",
    "    # k0 = Net surface flux/(dtheta/dz) at surface \n",
    "    # ka = k0*exp(-z/d) in atmosphere\n",
    "    # -ka * dtheta/dz is turbulent flux in the atmosphere \n",
    "    \n",
    "    def __init__(self, **kwargs):\n",
    "        #define initial state\n",
    "        super(Turbulence, self).__init__(**kwargs)\n",
    "        self.time_type = 'explicit'\n",
    "        self._hr = {}\n",
    "        for var in self.state:\n",
    "            self._hr[var] = 0. *self.state[var]\n",
    "        ### define new levels\n",
    "        #n+1 level (lev_bounds) reworked so that we are no longer using 0 and 1000 as our TOA and surface\n",
    "        self.lev_bounds[0] = self.lev_bounds[1]-2*(self.lev_bounds[1] - self.lev[0])\n",
    "        self.lev_bounds[-1] = self.lev_bounds[-2]+2*(self.lev[-1] - self.lev_bounds[-2])\n",
    "        #n+2 level (lev_pad)\n",
    "        self.lev_pad = np.zeros(len(state['Tatm']) + 2)\n",
    "        self.lev_pad[1:] = self.lev_bounds\n",
    "        self.lev_pad[0] = self.lev_bounds[0]-2*(self.lev_bounds[1] - self.lev_bounds[0])\n",
    "        ### calculate turbulent flux\n",
    "        #surface flux (LW + SW)\n",
    "        self._total_sfc_flux_init = (rad.diagnostics['LW_flux_net_clr'] + rad.diagnostics['SW_flux_net_clr'])[-1]\n",
    "        #gas constant / specific heat of air\n",
    "        R_cp = 0.286 \n",
    "        #theta (length of n)\n",
    "        self._theta_init = self.state['Tatm']*((self.lev[0]/self.lev)**(R_cp)) \n",
    "        #dtheta_dz_init (length of n+1 by hard coding in our top and bottom levels)\n",
    "        self._dtheta_dz_init = np.zeros(len(state['Tatm']) +1)\n",
    "        self._dtheta_dz_init[1:-1] = np.diff(self._theta_init)/np.diff(self.lev)\n",
    "        self._dtheta_dz_init[0] =  0 #### USE THE TOP DTHETA_DZ TWICE\n",
    "        self._dtheta_dz_init[-1] =  -self._total_sfc_flux_init\n",
    "        #surface diffk\n",
    "        self._surface_diffk = self._total_sfc_flux_init/self._dtheta_dz_init[-2]\n",
    "        #atmospheric diffk\n",
    "        scale_factor = 100\n",
    "        k1 = -8.78700 #m/mb\n",
    "        k0 = 8893 #m\n",
    "        self._alt_linear_est = k1 * self.lev_bounds + k0 \n",
    "        self._atm_diffk = self._surface_diffk * (np.exp(-self._alt_linear_est/scale_factor)) #### CHECK IF GOOD FOR ALT #length scale of 100\n",
    "        \n",
    "\n",
    "    def _compute(self):\n",
    "        #surface flux (LW + SW)\n",
    "        self._total_sfc_flux = (rad.diagnostics['LW_flux_net_clr'] + rad.diagnostics['SW_flux_net_clr'])[-1]\n",
    "        #gas constant / specific heat of air\n",
    "        R_cp = 0.286 \n",
    "        #theta (length of n)\n",
    "        self._theta = self.state['Tatm']*((self.lev[0]/self.lev)**(R_cp)) \n",
    "        #dtheta_dz_init (length of n+1)\n",
    "        self._dtheta_dz = np.zeros(len(state['Tatm']) +1)\n",
    "        self._dtheta_dz[1:-1] = np.diff(self._theta)/np.diff(self.lev)\n",
    "        self._dtheta_dz[0] =  0 #### USE THE TOP DTHETA_DZ TWICE\n",
    "        self._dtheta_dz[-1] =  -self._total_sfc_flux\n",
    "        #calculate the turbulent flux\n",
    "        self._turbulent_flux = -self._atm_diffk * self._dtheta_dz\n",
    "        # calculate heating rate (flux convergence) from flux\n",
    "        self._hr = (np.diff(self._turbulent_flux)/np.diff(self.lev_bounds))\n",
    "        tendencies = {'Tatm' : self._hr}\n",
    "        return tendencies"
   ]
  },
  {
   "cell_type": "code",
   "execution_count": 1,
   "metadata": {},
   "outputs": [
    {
     "ename": "NameError",
     "evalue": "name 'climlab' is not defined",
     "output_type": "error",
     "traceback": [
      "\u001b[0;31m---------------------------------------------------------------------------\u001b[0m",
      "\u001b[0;31mNameError\u001b[0m                                 Traceback (most recent call last)",
      "\u001b[0;32m<ipython-input-1-6bd6936b3fd2>\u001b[0m in \u001b[0;36m<module>\u001b[0;34m\u001b[0m\n\u001b[1;32m      3\u001b[0m \u001b[0malb\u001b[0m \u001b[0;34m=\u001b[0m \u001b[0;36m0.8\u001b[0m\u001b[0;34m\u001b[0m\u001b[0;34m\u001b[0m\u001b[0m\n\u001b[1;32m      4\u001b[0m \u001b[0;31m#  State variables (Air and surface temperature)\u001b[0m\u001b[0;34m\u001b[0m\u001b[0;34m\u001b[0m\u001b[0;34m\u001b[0m\u001b[0m\n\u001b[0;32m----> 5\u001b[0;31m \u001b[0mstate\u001b[0m \u001b[0;34m=\u001b[0m\u001b[0mclimlab\u001b[0m\u001b[0;34m.\u001b[0m\u001b[0mcolumn_state\u001b[0m\u001b[0;34m(\u001b[0m\u001b[0mnum_lev\u001b[0m\u001b[0;34m=\u001b[0m\u001b[0;36m96\u001b[0m\u001b[0;34m)\u001b[0m\u001b[0;34m\u001b[0m\u001b[0;34m\u001b[0m\u001b[0m\n\u001b[0m\u001b[1;32m      6\u001b[0m \u001b[0;31m#  Fixed relative humidity\u001b[0m\u001b[0;34m\u001b[0m\u001b[0;34m\u001b[0m\u001b[0;34m\u001b[0m\u001b[0m\n\u001b[1;32m      7\u001b[0m \u001b[0mh2o\u001b[0m \u001b[0;34m=\u001b[0m \u001b[0mclimlab\u001b[0m\u001b[0;34m.\u001b[0m\u001b[0mradiation\u001b[0m\u001b[0;34m.\u001b[0m\u001b[0mManabeWaterVapor\u001b[0m\u001b[0;34m(\u001b[0m\u001b[0mname\u001b[0m\u001b[0;34m=\u001b[0m\u001b[0;34m'WaterVapor'\u001b[0m\u001b[0;34m,\u001b[0m \u001b[0mstate\u001b[0m\u001b[0;34m=\u001b[0m\u001b[0mstate\u001b[0m\u001b[0;34m)\u001b[0m\u001b[0;34m\u001b[0m\u001b[0;34m\u001b[0m\u001b[0m\n",
      "\u001b[0;31mNameError\u001b[0m: name 'climlab' is not defined"
     ]
    }
   ],
   "source": [
    "#test the turbulence class\n",
    "\n",
    "alb = 0.8\n",
    "#  State variables (Air and surface temperature)\n",
    "state =climlab.column_state(num_lev=96)\n",
    "#  Fixed relative humidity\n",
    "h2o = climlab.radiation.ManabeWaterVapor(name='WaterVapor', state=state)\n",
    "#  Couple water vapor to radiation\n",
    "rad = climlab.radiation.RRTMG(name='Radiation', state=state, specific_humidity=h2o.q, albedo=alb)\n",
    "#  Couple turbulence to radiation\n",
    "turb = Turbulence(name = 'Turbulence', state=state, rad = rad)\n",
    "#  Couple everything together\n",
    "rcm = climlab.TimeDependentProcess(state = state)\n",
    "rcm.add_subprocess('Turbulence', turb) #add insolation subprocess\n",
    "rcm.add_subprocess('Radiation', rad) #add insolation subprocess\n",
    "rcm.add_subprocess('WaterVapor', h2o) #add insolation subprocess\n",
    "rcm.compute()"
   ]
  }
 ],
 "metadata": {
  "kernelspec": {
   "display_name": "Python 3",
   "language": "python",
   "name": "python3"
  },
  "language_info": {
   "codemirror_mode": {
    "name": "ipython",
    "version": 3
   },
   "file_extension": ".py",
   "mimetype": "text/x-python",
   "name": "python",
   "nbconvert_exporter": "python",
   "pygments_lexer": "ipython3",
   "version": "3.7.5"
  }
 },
 "nbformat": 4,
 "nbformat_minor": 4
}
