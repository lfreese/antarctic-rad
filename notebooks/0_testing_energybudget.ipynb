{
 "cells": [
  {
   "cell_type": "code",
   "execution_count": 1,
   "metadata": {},
   "outputs": [
    {
     "name": "stdout",
     "output_type": "stream",
     "text": [
      "Opened data from /opt/anaconda3/envs/conda_env/lib/python3.7/site-packages/climlab/radiation/data/ozone/apeozone_cam3_5_54.nc\n",
      "Integrating for 365 steps, 365.2422 days, or 1 years.\n",
      "Total elapsed time is 0.9993368783782377 years.\n",
      "[0.03631771]\n"
     ]
    }
   ],
   "source": [
    "import climlab\n",
    "alb = 0.25\n",
    "#  State variables (Air and surface temperature)\n",
    "state = climlab.column_state(num_lev=30)\n",
    "#  Parent model process\n",
    "rcm = climlab.TimeDependentProcess(state=state)\n",
    "#  Fixed relative humidity\n",
    "h2o = climlab.radiation.ManabeWaterVapor(state=state)\n",
    "#  Couple water vapor to radiation\n",
    "rad = climlab.radiation.RRTMG(state=state, specific_humidity=h2o.q, albedo=alb)\n",
    "#  Convective adjustment\n",
    "conv = climlab.convection.ConvectiveAdjustment(state=state, adj_lapse_rate=6.5)\n",
    "#  Couple everything together\n",
    "rcm.add_subprocess('Radiation', rad)\n",
    "rcm.add_subprocess('WaterVapor', h2o)\n",
    "rcm.add_subprocess('Convection', conv)\n",
    "#  Run the model\n",
    "rcm.integrate_years(1)\n",
    "#  Check for energy balance\n",
    "print (rcm.ASR - rcm.OLR)"
   ]
  },
  {
   "cell_type": "code",
   "execution_count": 2,
   "metadata": {},
   "outputs": [],
   "source": [
    "original_Tatm = rcm.Tatm\n",
    "original_Ts = rcm.Ts\n",
    "timestep = rcm.time['timestep']\n",
    "original_OLR = rcm.OLR\n",
    "original_ASR = rcm.ASR"
   ]
  },
  {
   "cell_type": "code",
   "execution_count": 6,
   "metadata": {},
   "outputs": [
    {
     "data": {
      "text/plain": [
       "{'Ts': Field([2.76108108e-09]),\n",
       " 'Tatm': Field([6.18450342e-10, 9.66872877e-10, 1.13055215e-09, 1.46636914e-09,\n",
       "        1.77910516e-09, 1.84383797e-09, 1.76395267e-09, 2.12066828e-09,\n",
       "        2.17180141e-09, 2.21827432e-09, 2.26094114e-09, 2.30043512e-09,\n",
       "        2.33723959e-09, 2.37173239e-09, 2.40421484e-09, 2.43493134e-09,\n",
       "        2.46408306e-09, 2.49183769e-09, 2.51833655e-09, 2.54369995e-09,\n",
       "        2.56803120e-09, 2.59141971e-09, 2.61394340e-09, 2.63567064e-09,\n",
       "        2.65666177e-09, 2.67697027e-09, 2.69664388e-09, 2.71572530e-09,\n",
       "        2.73425295e-09, 2.75226152e-09])}"
      ]
     },
     "execution_count": 6,
     "metadata": {},
     "output_type": "execute_result"
    }
   ],
   "source": [
    "rcm.step_forward()\n",
    "rcm.compute()"
   ]
  },
  {
   "cell_type": "code",
   "execution_count": 7,
   "metadata": {},
   "outputs": [],
   "source": [
    "stepped_Tatm = rcm.Tatm\n",
    "stepped_Ts = rcm.Ts\n",
    "stepped_OLR = rcm.OLR\n",
    "stepped_ASR = rcm.ASR"
   ]
  },
  {
   "cell_type": "code",
   "execution_count": null,
   "metadata": {},
   "outputs": [],
   "source": []
  }
 ],
 "metadata": {
  "kernelspec": {
   "display_name": "Python 3",
   "language": "python",
   "name": "python3"
  },
  "language_info": {
   "codemirror_mode": {
    "name": "ipython",
    "version": 3
   },
   "file_extension": ".py",
   "mimetype": "text/x-python",
   "name": "python",
   "nbconvert_exporter": "python",
   "pygments_lexer": "ipython3",
   "version": "3.7.5"
  }
 },
 "nbformat": 4,
 "nbformat_minor": 4
}
