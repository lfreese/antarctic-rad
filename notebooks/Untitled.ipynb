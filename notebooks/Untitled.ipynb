{
 "cells": [
  {
   "cell_type": "code",
   "execution_count": null,
   "metadata": {},
   "outputs": [],
   "source": [
    "class SensibleHeatFlux(_SurfaceFlux):\n",
    "    r'''Surface turbulent sensible heat flux implemented through a bulk aerodynamic formula.\n",
    "\n",
    "    The flux is computed from\n",
    "\n",
    "    .. math::\n",
    "\n",
    "        SH = r ~ c_p ~\\rho ~ C_D ~ U \\left( T_s - T_a \\right)\n",
    "\n",
    "\n",
    "    where:\n",
    "\n",
    "    - :math:`c_p` and :math:`\\rho` are the specific heat and density of air\n",
    "    - :math:`C_D` is a drag coefficient (stored as ``self.Cd``, default value is 3E-3)\n",
    "    - :math:`U` is the near-surface wind speed, stored as ``self.U``, default value is 5 m/s\n",
    "    - :math:`r` is an optional resistance parameter (stored as ``self.resistance``, default value = 1)\n",
    "\n",
    "    The surface temperature :math:`T_s` is taken directly from ``self.state['Ts']``,\n",
    "    while the near-surface air temperature :math:`T_a` is taken as the lowest model\n",
    "    level in ``self.state['Tatm']``\n",
    "\n",
    "    Diagnostic quantity ``self.SHF`` gives the sensible heat flux in W/m2.\n",
    "\n",
    "    Temperature tendencies associated with this flux are computed for\n",
    "    ``Ts`` and for the lowest model level in ``Tatm``. All other tendencies\n",
    "    (including air temperature tendencies at other levels) are set to zero.\n",
    "    '''\n",
    "    def __init__(self, Cd=3E-3, **kwargs):\n",
    "        super(SensibleHeatFlux, self).__init__(Cd=Cd, **kwargs)\n",
    "        self.add_diagnostic('SHF', 0.*self.Ts)\n",
    "\n",
    "    def _compute_flux(self):\n",
    "        # this ensure same dimensions as Ts\n",
    "        #  (and use only the lowest model level)\n",
    "        Ta = Field(self.Tatm[..., -1, np.newaxis], domain=self.Ts.domain)\n",
    "        Ts = self.Ts\n",
    "        DeltaT = Ts - Ta\n",
    "        rho = self._air_density(Ta)\n",
    "        #  flux from bulk formula\n",
    "        self._flux = self.resistance * const.cp * rho * self.Cd * self.U * DeltaT\n",
    "        self.SHF = self._flux"
   ]
  },
  {
   "cell_type": "code",
   "execution_count": 2,
   "metadata": {},
   "outputs": [
    {
     "name": "stdout",
     "output_type": "stream",
     "text": [
      "Opened data from /opt/anaconda3/envs/conda_env/lib/python3.7/site-packages/climlab/radiation/data/ozone/apeozone_cam3_5_54.nc\n"
     ]
    }
   ],
   "source": [
    "import climlab\n",
    "alb = 0.25\n",
    "#  State variables (Air and surface temperature)\n",
    "state = climlab.column_state(num_lev=30)\n",
    "#  Parent model process\n",
    "rcm = climlab.TimeDependentProcess(state=state)\n",
    "#  Fixed relative humidity\n",
    "h2o = climlab.radiation.ManabeWaterVapor(state=state)\n",
    "#  Couple water vapor to radiation\n",
    "rad = climlab.radiation.RRTMG(state=state, specific_humidity=h2o.q, albedo=alb)\n",
    "#  Convective adjustment\n",
    "conv = climlab.convection.ConvectiveAdjustment(state=state, adj_lapse_rate=6.5)\n",
    "#  Couple everything together\n",
    "rcm.add_subprocess('Radiation', rad)\n",
    "rcm.add_subprocess('WaterVapor', h2o)\n",
    "rcm.add_subprocess('Convection', conv)\n"
   ]
  },
  {
   "cell_type": "code",
   "execution_count": 5,
   "metadata": {},
   "outputs": [
    {
     "data": {
      "text/plain": [
       "(30,)"
      ]
     },
     "execution_count": 5,
     "metadata": {},
     "output_type": "execute_result"
    }
   ],
   "source": [
    "rcm.state['Tatm'].shape"
   ]
  },
  {
   "cell_type": "code",
   "execution_count": 8,
   "metadata": {},
   "outputs": [
    {
     "data": {
      "text/plain": [
       "array([ 16.66666667,  50.        ,  83.33333333, 116.66666667,\n",
       "       150.        , 183.33333333, 216.66666667, 250.        ,\n",
       "       283.33333333, 316.66666667, 350.        , 383.33333333,\n",
       "       416.66666667, 450.        , 483.33333333, 516.66666667,\n",
       "       550.        , 583.33333333, 616.66666667, 650.        ,\n",
       "       683.33333333, 716.66666667, 750.        , 783.33333333,\n",
       "       816.66666667, 850.        , 883.33333333, 916.66666667,\n",
       "       950.        , 983.33333333])"
      ]
     },
     "execution_count": 8,
     "metadata": {},
     "output_type": "execute_result"
    }
   ],
   "source": [
    "rcm.lev"
   ]
  },
  {
   "cell_type": "code",
   "execution_count": null,
   "metadata": {},
   "outputs": [],
   "source": []
  }
 ],
 "metadata": {
  "kernelspec": {
   "display_name": "Python 3",
   "language": "python",
   "name": "python3"
  },
  "language_info": {
   "codemirror_mode": {
    "name": "ipython",
    "version": 3
   },
   "file_extension": ".py",
   "mimetype": "text/x-python",
   "name": "python",
   "nbconvert_exporter": "python",
   "pygments_lexer": "ipython3",
   "version": "3.7.5"
  }
 },
 "nbformat": 4,
 "nbformat_minor": 4
}
