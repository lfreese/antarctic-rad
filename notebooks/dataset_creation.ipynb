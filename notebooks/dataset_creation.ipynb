{
 "cells": [
  {
   "cell_type": "code",
   "execution_count": 1,
   "metadata": {},
   "outputs": [],
   "source": [
    "from __future__ import print_function, division"
   ]
  },
  {
   "cell_type": "code",
   "execution_count": 2,
   "metadata": {},
   "outputs": [
    {
     "name": "stderr",
     "output_type": "stream",
     "text": [
      "/opt/anaconda3/envs/conda_env/lib/python3.7/site-packages/dask/dataframe/utils.py:14: FutureWarning: pandas.util.testing is deprecated. Use the functions in the public API at pandas.testing instead.\n",
      "  import pandas.util.testing as tm\n"
     ]
    }
   ],
   "source": [
    "%matplotlib inline\n",
    "%load_ext autoreload\n",
    "%autoreload 2\n",
    "\n",
    "import matplotlib.pyplot as plt\n",
    "import qgrid\n",
    "\n",
    "import numpy as np\n",
    "from numpy import diff\n",
    "import math\n",
    "\n",
    "import pandas as pd\n",
    "import xarray as xr\n",
    "\n",
    "import climlab\n",
    "from climlab.solar.insolation import daily_insolation\n",
    "from climlab.radiation import DailyInsolation\n",
    "from climlab.radiation import FixedInsolation\n",
    "from climlab.process import TimeDependentProcess\n",
    "from climlab.utils import heat_capacity\n",
    "from matplotlib.pyplot import cm\n",
    "from matplotlib.lines import Line2D\n",
    "from matplotlib.legend import Legend\n",
    "\n",
    "from IPython.display import HTML\n",
    "\n",
    "\n",
    "import scipy as scp\n",
    "from attrdict import AttrDict\n",
    "from datetime import datetime\n",
    "\n",
    "import dask.dataframe as dd\n",
    "\n",
    "import warnings\n",
    "\n",
    "import util\n",
    "import ram_model\n",
    "import plotting"
   ]
  },
  {
   "cell_type": "markdown",
   "metadata": {},
   "source": [
    "# Import Observational Data\n",
    "\n",
    "Read data and concatenate into one dataset.\n",
    "\n",
    "level 0 = Surface\n",
    "\n",
    "level 110 = TOA\n",
    "\n",
    "(our data is in the order TOA-->Surface)"
   ]
  },
  {
   "cell_type": "code",
   "execution_count": 3,
   "metadata": {},
   "outputs": [
    {
     "name": "stdout",
     "output_type": "stream",
     "text": [
      "Dropped levels [1, 2, 3, 4, 5, 6, 7, 9, 10, 11, 12, 14, 15, 17, 18, 20, 22, 24, 26]\n"
     ]
    }
   ],
   "source": [
    "ds = util.load_soundings()\n",
    "util.add_monthly_insolation(ds)\n",
    "ds = util.adjust_lev(ds, nlevels = 95)\n",
    "months = ['January', 'February', 'March', 'April', 'May', 'June', 'July', 'August', 'September', 'October', 'November', 'December']\n",
    "co2_lev = ds.CO2_list.values\n",
    "run_name = 'low7_albedo'# 'normal'\n",
    "\n",
    "#create an option to add one degree to the surface temperature in order to calculate an energy budget\n",
    "TS_plus_one = False\n",
    "\n",
    "if TS_plus_one == True:\n",
    "    ds.isel(level = -1)['Temperature']+= 1\n",
    "    run_name = TS_plus_one"
   ]
  },
  {
   "cell_type": "markdown",
   "metadata": {},
   "source": [
    "# Climlab"
   ]
  },
  {
   "cell_type": "markdown",
   "metadata": {},
   "source": [
    "All tendencies must be in K/sec (see Climlab energy_budget documentation and self.heating_rate attribute): https://climlab.readthedocs.io/en/latest/_modules/climlab/process/energy_budget.html#EnergyBudget"
   ]
  },
  {
   "cell_type": "code",
   "execution_count": 13,
   "metadata": {},
   "outputs": [
    {
     "name": "stdout",
     "output_type": "stream",
     "text": [
      "[0.36798833]\n"
     ]
    }
   ],
   "source": [
    "timestep = 300 #seconds\n",
    "\n",
    "############# FIND OUR AVERAGE KAPPA AND ADVECTION ###############\n",
    "\n",
    "#### Find the surface diffk average over 12 months at CO2 = .00038 ####\n",
    "mean_diffk_dict = {}\n",
    "mean_diffk_dict = ram_model.fill_ensemble(ds, mean_diffk_dict, timestep, \n",
    "                                                     advection_on = True, turbulence_on = True, \n",
    "                                                     advection = None, \n",
    "                                                     surface_diffk = None)\n",
    "surface_diffk_average = ram_model.annual_mean_sfc_diffk(ds, mean_diffk_dict)\n",
    "print(surface_diffk_average)\n",
    "\n",
    "#### Find our initial advection #### \n",
    "adv_dict = {}\n",
    "adv_dict = ram_model.fill_ensemble(ds, adv_dict, timestep, \n",
    "                                   advection_on = True, turbulence_on = True, \n",
    "                                   advection = None, \n",
    "                                   surface_diffk = surface_diffk_average)\n",
    "advection_380_monthly = {}\n",
    "for m in months:\n",
    "    advection_380_monthly[m] = adv_dict[0.00038][m].subprocess.Advection.forcing_tendencies['Tatm']\n"
   ]
  },
  {
   "cell_type": "code",
   "execution_count": 14,
   "metadata": {},
   "outputs": [
    {
     "data": {
      "text/plain": [
       "{0.0: {'January': <climlab.process.time_dependent_process.TimeDependentProcess at 0x7f9208f40dd0>,\n",
       "  'February': <climlab.process.time_dependent_process.TimeDependentProcess at 0x7f9209fecfd0>,\n",
       "  'March': <climlab.process.time_dependent_process.TimeDependentProcess at 0x7f9209ff9e50>,\n",
       "  'April': <climlab.process.time_dependent_process.TimeDependentProcess at 0x7f9209fdde10>,\n",
       "  'May': <climlab.process.time_dependent_process.TimeDependentProcess at 0x7f9209fdda90>,\n",
       "  'June': <climlab.process.time_dependent_process.TimeDependentProcess at 0x7f9209fe8550>,\n",
       "  'July': <climlab.process.time_dependent_process.TimeDependentProcess at 0x7f9209fe8750>,\n",
       "  'August': <climlab.process.time_dependent_process.TimeDependentProcess at 0x7f9209fe8150>,\n",
       "  'September': <climlab.process.time_dependent_process.TimeDependentProcess at 0x7f9209fe8950>,\n",
       "  'October': <climlab.process.time_dependent_process.TimeDependentProcess at 0x7f9209fe8f90>,\n",
       "  'November': <climlab.process.time_dependent_process.TimeDependentProcess at 0x7f92065b8310>,\n",
       "  'December': <climlab.process.time_dependent_process.TimeDependentProcess at 0x7f92065b8610>},\n",
       " 1e-06: {'January': <climlab.process.time_dependent_process.TimeDependentProcess at 0x7f92065b84d0>,\n",
       "  'February': <climlab.process.time_dependent_process.TimeDependentProcess at 0x7f92065b8ed0>,\n",
       "  'March': <climlab.process.time_dependent_process.TimeDependentProcess at 0x7f92065b8a90>,\n",
       "  'April': <climlab.process.time_dependent_process.TimeDependentProcess at 0x7f920662b710>,\n",
       "  'May': <climlab.process.time_dependent_process.TimeDependentProcess at 0x7f920662b6d0>,\n",
       "  'June': <climlab.process.time_dependent_process.TimeDependentProcess at 0x7f920662b9d0>,\n",
       "  'July': <climlab.process.time_dependent_process.TimeDependentProcess at 0x7f920662b890>,\n",
       "  'August': <climlab.process.time_dependent_process.TimeDependentProcess at 0x7f920662b410>,\n",
       "  'September': <climlab.process.time_dependent_process.TimeDependentProcess at 0x7f9206664350>,\n",
       "  'October': <climlab.process.time_dependent_process.TimeDependentProcess at 0x7f9206664590>,\n",
       "  'November': <climlab.process.time_dependent_process.TimeDependentProcess at 0x7f92066641d0>,\n",
       "  'December': <climlab.process.time_dependent_process.TimeDependentProcess at 0x7f9206664710>},\n",
       " 5e-06: {'January': <climlab.process.time_dependent_process.TimeDependentProcess at 0x7f9206664490>,\n",
       "  'February': <climlab.process.time_dependent_process.TimeDependentProcess at 0x7f92067cf590>,\n",
       "  'March': <climlab.process.time_dependent_process.TimeDependentProcess at 0x7f92067cf810>,\n",
       "  'April': <climlab.process.time_dependent_process.TimeDependentProcess at 0x7f92067cf150>,\n",
       "  'May': <climlab.process.time_dependent_process.TimeDependentProcess at 0x7f92067cf550>,\n",
       "  'June': <climlab.process.time_dependent_process.TimeDependentProcess at 0x7f92067cfb90>,\n",
       "  'July': <climlab.process.time_dependent_process.TimeDependentProcess at 0x7f9208e80410>,\n",
       "  'August': <climlab.process.time_dependent_process.TimeDependentProcess at 0x7f9208e80510>,\n",
       "  'September': <climlab.process.time_dependent_process.TimeDependentProcess at 0x7f9208e80c90>,\n",
       "  'October': <climlab.process.time_dependent_process.TimeDependentProcess at 0x7f9208e80950>,\n",
       "  'November': <climlab.process.time_dependent_process.TimeDependentProcess at 0x7f9208eb9a10>,\n",
       "  'December': <climlab.process.time_dependent_process.TimeDependentProcess at 0x7f9208eb96d0>},\n",
       " 2e-05: {'January': <climlab.process.time_dependent_process.TimeDependentProcess at 0x7f9208eb9e90>,\n",
       "  'February': <climlab.process.time_dependent_process.TimeDependentProcess at 0x7f9208eb9510>,\n",
       "  'March': <climlab.process.time_dependent_process.TimeDependentProcess at 0x7f9208eb9590>,\n",
       "  'April': <climlab.process.time_dependent_process.TimeDependentProcess at 0x7f9209f6b450>,\n",
       "  'May': <climlab.process.time_dependent_process.TimeDependentProcess at 0x7f9209f6b810>,\n",
       "  'June': <climlab.process.time_dependent_process.TimeDependentProcess at 0x7f9209f6b790>,\n",
       "  'July': <climlab.process.time_dependent_process.TimeDependentProcess at 0x7f9209f6b050>,\n",
       "  'August': <climlab.process.time_dependent_process.TimeDependentProcess at 0x7f9209f6b9d0>,\n",
       "  'September': <climlab.process.time_dependent_process.TimeDependentProcess at 0x7f921409e6d0>,\n",
       "  'October': <climlab.process.time_dependent_process.TimeDependentProcess at 0x7f921409e690>,\n",
       "  'November': <climlab.process.time_dependent_process.TimeDependentProcess at 0x7f921409ea50>,\n",
       "  'December': <climlab.process.time_dependent_process.TimeDependentProcess at 0x7f921409eb90>},\n",
       " 5e-05: {'January': <climlab.process.time_dependent_process.TimeDependentProcess at 0x7f921409e710>,\n",
       "  'February': <climlab.process.time_dependent_process.TimeDependentProcess at 0x7f92140d1390>,\n",
       "  'March': <climlab.process.time_dependent_process.TimeDependentProcess at 0x7f92140d1590>,\n",
       "  'April': <climlab.process.time_dependent_process.TimeDependentProcess at 0x7f92140d1dd0>,\n",
       "  'May': <climlab.process.time_dependent_process.TimeDependentProcess at 0x7f92140d13d0>,\n",
       "  'June': <climlab.process.time_dependent_process.TimeDependentProcess at 0x7f92140d11d0>,\n",
       "  'July': <climlab.process.time_dependent_process.TimeDependentProcess at 0x7f920d6d05d0>,\n",
       "  'August': <climlab.process.time_dependent_process.TimeDependentProcess at 0x7f920d6d0650>,\n",
       "  'September': <climlab.process.time_dependent_process.TimeDependentProcess at 0x7f920d6d08d0>,\n",
       "  'October': <climlab.process.time_dependent_process.TimeDependentProcess at 0x7f920d6d0610>,\n",
       "  'November': <climlab.process.time_dependent_process.TimeDependentProcess at 0x7f920d6d0910>,\n",
       "  'December': <climlab.process.time_dependent_process.TimeDependentProcess at 0x7f9215b90110>},\n",
       " 0.0001: {'January': <climlab.process.time_dependent_process.TimeDependentProcess at 0x7f9215b90990>,\n",
       "  'February': <climlab.process.time_dependent_process.TimeDependentProcess at 0x7f9215b90e10>,\n",
       "  'March': <climlab.process.time_dependent_process.TimeDependentProcess at 0x7f9215b90f90>,\n",
       "  'April': <climlab.process.time_dependent_process.TimeDependentProcess at 0x7f9215b903d0>,\n",
       "  'May': <climlab.process.time_dependent_process.TimeDependentProcess at 0x7f9215bcb210>,\n",
       "  'June': <climlab.process.time_dependent_process.TimeDependentProcess at 0x7f9215bcbe50>,\n",
       "  'July': <climlab.process.time_dependent_process.TimeDependentProcess at 0x7f9215bcbe10>,\n",
       "  'August': <climlab.process.time_dependent_process.TimeDependentProcess at 0x7f9215bcbb90>,\n",
       "  'September': <climlab.process.time_dependent_process.TimeDependentProcess at 0x7f92204db550>,\n",
       "  'October': <climlab.process.time_dependent_process.TimeDependentProcess at 0x7f92204db750>,\n",
       "  'November': <climlab.process.time_dependent_process.TimeDependentProcess at 0x7f92204db050>,\n",
       "  'December': <climlab.process.time_dependent_process.TimeDependentProcess at 0x7f92204db950>},\n",
       " 0.0002: {'January': <climlab.process.time_dependent_process.TimeDependentProcess at 0x7f92204dbf90>,\n",
       "  'February': <climlab.process.time_dependent_process.TimeDependentProcess at 0x7f91f6b60350>,\n",
       "  'March': <climlab.process.time_dependent_process.TimeDependentProcess at 0x7f91f6b60850>,\n",
       "  'April': <climlab.process.time_dependent_process.TimeDependentProcess at 0x7f91f6b60050>,\n",
       "  'May': <climlab.process.time_dependent_process.TimeDependentProcess at 0x7f91f6b60f50>,\n",
       "  'June': <climlab.process.time_dependent_process.TimeDependentProcess at 0x7f91f6b60bd0>,\n",
       "  'July': <climlab.process.time_dependent_process.TimeDependentProcess at 0x7f91f82ec710>,\n",
       "  'August': <climlab.process.time_dependent_process.TimeDependentProcess at 0x7f91f82ec6d0>,\n",
       "  'September': <climlab.process.time_dependent_process.TimeDependentProcess at 0x7f91f82ec9d0>,\n",
       "  'October': <climlab.process.time_dependent_process.TimeDependentProcess at 0x7f91f82ec890>,\n",
       "  'November': <climlab.process.time_dependent_process.TimeDependentProcess at 0x7f91f82ec410>,\n",
       "  'December': <climlab.process.time_dependent_process.TimeDependentProcess at 0x7f91f9813350>},\n",
       " 0.00038: {'January': <climlab.process.time_dependent_process.TimeDependentProcess at 0x7f91f9813990>,\n",
       "  'February': <climlab.process.time_dependent_process.TimeDependentProcess at 0x7f91f9813b90>,\n",
       "  'March': <climlab.process.time_dependent_process.TimeDependentProcess at 0x7f91f9813490>,\n",
       "  'April': <climlab.process.time_dependent_process.TimeDependentProcess at 0x7f91f9813050>,\n",
       "  'May': <climlab.process.time_dependent_process.TimeDependentProcess at 0x7f91f984b610>,\n",
       "  'June': <climlab.process.time_dependent_process.TimeDependentProcess at 0x7f91f984b690>,\n",
       "  'July': <climlab.process.time_dependent_process.TimeDependentProcess at 0x7f91f984b150>,\n",
       "  'August': <climlab.process.time_dependent_process.TimeDependentProcess at 0x7f91f984ba10>,\n",
       "  'September': <climlab.process.time_dependent_process.TimeDependentProcess at 0x7f91f984bb90>,\n",
       "  'October': <climlab.process.time_dependent_process.TimeDependentProcess at 0x7f91facbf410>,\n",
       "  'November': <climlab.process.time_dependent_process.TimeDependentProcess at 0x7f91facbf510>,\n",
       "  'December': <climlab.process.time_dependent_process.TimeDependentProcess at 0x7f91facbfc90>},\n",
       " 0.00076: {'January': <climlab.process.time_dependent_process.TimeDependentProcess at 0x7f91facbf950>,\n",
       "  'February': <climlab.process.time_dependent_process.TimeDependentProcess at 0x7f91fc5cfa10>,\n",
       "  'March': <climlab.process.time_dependent_process.TimeDependentProcess at 0x7f91fc5cf6d0>,\n",
       "  'April': <climlab.process.time_dependent_process.TimeDependentProcess at 0x7f91fc5cf4d0>,\n",
       "  'May': <climlab.process.time_dependent_process.TimeDependentProcess at 0x7f91fc5cfb90>,\n",
       "  'June': <climlab.process.time_dependent_process.TimeDependentProcess at 0x7f91fc5cfe50>,\n",
       "  'July': <climlab.process.time_dependent_process.TimeDependentProcess at 0x7f91fadbf450>,\n",
       "  'August': <climlab.process.time_dependent_process.TimeDependentProcess at 0x7f91fadbf810>,\n",
       "  'September': <climlab.process.time_dependent_process.TimeDependentProcess at 0x7f91fadbf790>,\n",
       "  'October': <climlab.process.time_dependent_process.TimeDependentProcess at 0x7f91fadbf1d0>,\n",
       "  'November': <climlab.process.time_dependent_process.TimeDependentProcess at 0x7f91fadbf9d0>,\n",
       "  'December': <climlab.process.time_dependent_process.TimeDependentProcess at 0x7f91ff2466d0>},\n",
       " 0.001: {'January': <climlab.process.time_dependent_process.TimeDependentProcess at 0x7f91ff2468d0>,\n",
       "  'February': <climlab.process.time_dependent_process.TimeDependentProcess at 0x7f91ff246950>,\n",
       "  'March': <climlab.process.time_dependent_process.TimeDependentProcess at 0x7f91ff246d90>,\n",
       "  'April': <climlab.process.time_dependent_process.TimeDependentProcess at 0x7f91ff246dd0>,\n",
       "  'May': <climlab.process.time_dependent_process.TimeDependentProcess at 0x7f9200767410>,\n",
       "  'June': <climlab.process.time_dependent_process.TimeDependentProcess at 0x7f92007678d0>,\n",
       "  'July': <climlab.process.time_dependent_process.TimeDependentProcess at 0x7f9200767dd0>,\n",
       "  'August': <climlab.process.time_dependent_process.TimeDependentProcess at 0x7f9200767810>,\n",
       "  'September': <climlab.process.time_dependent_process.TimeDependentProcess at 0x7f92007675d0>,\n",
       "  'October': <climlab.process.time_dependent_process.TimeDependentProcess at 0x7f9201ef95d0>,\n",
       "  'November': <climlab.process.time_dependent_process.TimeDependentProcess at 0x7f9201ef9650>,\n",
       "  'December': <climlab.process.time_dependent_process.TimeDependentProcess at 0x7f9201ef98d0>},\n",
       " 0.0015: {'January': <climlab.process.time_dependent_process.TimeDependentProcess at 0x7f9201ef9f90>,\n",
       "  'February': <climlab.process.time_dependent_process.TimeDependentProcess at 0x7f9201ef9e50>,\n",
       "  'March': <climlab.process.time_dependent_process.TimeDependentProcess at 0x7f92033942d0>,\n",
       "  'April': <climlab.process.time_dependent_process.TimeDependentProcess at 0x7f9203394190>,\n",
       "  'May': <climlab.process.time_dependent_process.TimeDependentProcess at 0x7f9203394790>,\n",
       "  'June': <climlab.process.time_dependent_process.TimeDependentProcess at 0x7f92033946d0>,\n",
       "  'July': <climlab.process.time_dependent_process.TimeDependentProcess at 0x7f9203394f50>,\n",
       "  'August': <climlab.process.time_dependent_process.TimeDependentProcess at 0x7f9203348210>,\n",
       "  'September': <climlab.process.time_dependent_process.TimeDependentProcess at 0x7f9203348e50>,\n",
       "  'October': <climlab.process.time_dependent_process.TimeDependentProcess at 0x7f9203348e10>,\n",
       "  'November': <climlab.process.time_dependent_process.TimeDependentProcess at 0x7f9203348b90>,\n",
       "  'December': <climlab.process.time_dependent_process.TimeDependentProcess at 0x7f91e600e550>}}"
      ]
     },
     "execution_count": 14,
     "metadata": {},
     "output_type": "execute_result"
    }
   ],
   "source": [
    "mean_diffk_dict"
   ]
  },
  {
   "cell_type": "markdown",
   "metadata": {},
   "source": [
    "## Create our Models\n",
    "Use our initial advection and surface diffk to run the model\n",
    "\n",
    "Run different versions of the model in the case that we want to examine just one component (out of Radiative, Advective and Turbulent)"
   ]
  },
  {
   "cell_type": "code",
   "execution_count": 30,
   "metadata": {},
   "outputs": [],
   "source": [
    "########### RADIATIVE ADVECTIVE TURBULENT #############\n",
    "rat_dict = {}\n",
    "rat_dict = ram_model.fill_ensemble(ds, rat_dict, timestep, \n",
    "                                   advection_on = True, turbulence_on = True, \n",
    "                                   advection = advection_380_monthly,\n",
    "                                   surface_diffk = surface_diffk_average)\n",
    "\n"
   ]
  },
  {
   "cell_type": "code",
   "execution_count": 31,
   "metadata": {},
   "outputs": [],
   "source": [
    "########### RADIATIVE ADVECTIVE #############\n",
    "ra_dict = {}\n",
    "ra_dict = ram_model.fill_ensemble(ds, ra_dict, timestep, \n",
    "                                   advection_on = True, turbulence_on = False, \n",
    "                                   advection = advection_380_monthly,\n",
    "                                   surface_diffk = surface_diffk_average)\n",
    "\n"
   ]
  },
  {
   "cell_type": "code",
   "execution_count": 32,
   "metadata": {},
   "outputs": [],
   "source": [
    "########### RADIATIVE TURBULENT #############\n",
    "rt_dict = {}\n",
    "rt_dict = ram_model.fill_ensemble(ds, rt_dict, timestep, \n",
    "                                   advection_on = False, turbulence_on = True, \n",
    "                                   advection = None,\n",
    "                                   surface_diffk = surface_diffk_average)"
   ]
  },
  {
   "cell_type": "code",
   "execution_count": 33,
   "metadata": {},
   "outputs": [],
   "source": [
    "########### RADIATIVE #############\n",
    "r_dict = {}\n",
    "r_dict = ram_model.fill_ensemble(ds, r_dict, timestep, \n",
    "                                   advection_on = False, turbulence_on = False, \n",
    "                                   advection = None,\n",
    "                                   surface_diffk = surface_diffk_average)"
   ]
  },
  {
   "cell_type": "markdown",
   "metadata": {
    "toc-hr-collapsed": false
   },
   "source": [
    "# Output (initial and over time)"
   ]
  },
  {
   "cell_type": "code",
   "execution_count": 34,
   "metadata": {},
   "outputs": [],
   "source": [
    "month_ds_dict = {} #Empty dictionary to add values into\n",
    "steps = 43201 #choose number of timesteps\n",
    "fields_dict = {'TdotLW_clr':'z', 'LW_flux_up_clr':'z_bounds', \n",
    "               'LW_flux_down_clr':'z_bounds', 'LW_flux_net_clr':'z_bounds', \n",
    "               'TdotSW_clr':'z', 'SW_flux_up_clr':'z_bounds', \n",
    "               'SW_flux_down_clr':'z_bounds', 'SW_flux_net_clr':'z_bounds'} #fields from climlab output and their corresponding grid levels\n",
    "model_dict = {'rat':rat_dict,\n",
    "             #'rt':rt_dict,\n",
    "             #'ra':ra_dict,\n",
    "             #'r':r_dict\n",
    "             }"
   ]
  },
  {
   "cell_type": "markdown",
   "metadata": {},
   "source": [
    "### Initial Timestep"
   ]
  },
  {
   "cell_type": "code",
   "execution_count": 35,
   "metadata": {},
   "outputs": [],
   "source": [
    "#original\n",
    "ex_dict = rat_dict.copy()\n",
    "save_freq = 288 #frequency to save out the data\n",
    "for month in months:\n",
    "    #create a dataset for each month\n",
    "    month_ds_dict[month] = xr.Dataset(data_vars = {\n",
    "                                    'model' : ('model', ['rat','rt','ra','r']),\n",
    "                                    'co2_lev': ('co2_lev', ds['CO2_list'].values), \n",
    "                                    'time': ('time', np.arange(0,((steps+1)*timestep),save_freq*timestep)),\n",
    "                                    'lev': ('lev', ex_dict[.00038][month].lev),\n",
    "                                    'lev_full': ('lev_full', np.append(ex_dict[.00038][month].lev, \n",
    "                                                                       ex_dict[.00038][month].lev[-1]+(ex_dict[.00038][month].lev[-1]-ex_dict[.00038][month].lev[-2]))),\n",
    "                                    'lev_bounds': ('lev_bounds', ex_dict[.00038][month].lev_bounds)\n",
    "                                    })\n",
    "    #create a data-array for the pressure levels at the center of each grid box\n",
    "    lev_da = xr.DataArray(\n",
    "                        data = np.zeros((month_ds_dict[month].dims['model'],month_ds_dict[month].dims['co2_lev'],month_ds_dict[month].dims['lev'],month_ds_dict[month].dims['time'])), \n",
    "                        coords = ((month_ds_dict[month].coords['model'], month_ds_dict[month].coords['co2_lev'], month_ds_dict[month].coords['lev'], month_ds_dict[month].coords['time'])),\n",
    "                        dims = ('model','co2_lev', 'lev','time')\n",
    "                    )\n",
    "\n",
    "    #create a data-array for the pressure levels at the edges of each grid box\n",
    "    lev_bounds_da = xr.DataArray(\n",
    "                        data = np.zeros((month_ds_dict[month].dims['model'], month_ds_dict[month].dims['co2_lev'],month_ds_dict[month].dims['lev_bounds'],month_ds_dict[month].dims['time'])), \n",
    "                        coords = ((month_ds_dict[month].coords['model'], month_ds_dict[month].coords['co2_lev'], month_ds_dict[month].coords['lev_bounds'], month_ds_dict[month].coords['time'])),\n",
    "                        dims = ('model','co2_lev', 'lev_bounds','time')\n",
    "                    )\n",
    "    #create a data-array for the pressure levels at the center of each grid box, including the surface\n",
    "    lev_full_da = xr.DataArray(\n",
    "                        data = np.zeros((month_ds_dict[month].dims['model'], month_ds_dict[month].dims['co2_lev'],month_ds_dict[month].dims['lev_full'],month_ds_dict[month].dims['time'])), \n",
    "                        coords = ((month_ds_dict[month].coords['model'], month_ds_dict[month].coords['co2_lev'], month_ds_dict[month].coords['lev_full'], month_ds_dict[month].coords['time'])),\n",
    "                        dims = ('model','co2_lev', 'lev_full','time')\n",
    "                    )\n",
    "    #assign our outputs to a given array size\n",
    "    month_ds_dict[month]['T'] = lev_full_da.copy()\n",
    "    month_ds_dict[month]['turb_hr'] = lev_full_da.copy()\n",
    "    month_ds_dict[month]['turbulent_flux'] = lev_bounds_da.copy()\n",
    "    month_ds_dict[month]['diffk'] = lev_bounds_da.copy()\n",
    "    month_ds_dict[month]['theta_init'] = lev_da.copy()\n",
    "    month_ds_dict[month]['theta'] = lev_da.copy()\n",
    "    month_ds_dict[month]['turb_atm_hr'] = lev_da.copy()\n",
    "    month_ds_dict[month]['advection'] = lev_full_da.copy() \n",
    "    month_ds_dict[month]['heat_capacity'] = lev_da.copy()\n",
    "    \n",
    "    for var in fields_dict.keys():\n",
    "        if fields_dict[var] == 'z':\n",
    "            month_ds_dict[month][var] = lev_da.copy()\n",
    "        if fields_dict[var] == 'z_bounds':\n",
    "            month_ds_dict[month][var] = lev_bounds_da.copy()\n",
    "            \n",
    "    for co2 in ex_dict.keys():\n",
    "        for dict_name in model_dict.keys():\n",
    "            #create z coords\n",
    "            month_ds_dict[month] = month_ds_dict[month].assign_coords(z = ex_dict[co2][month].z)\n",
    "            month_ds_dict[month] = month_ds_dict[month].assign_coords(z_bounds = ex_dict[co2][month].z_bounds)\n",
    "            month_ds_dict[month] = month_ds_dict[month].assign_coords(z_full = np.append(ex_dict[co2][month].z, -0.5))\n",
    "            \n",
    "            month_ds_dict[month]['T'].loc[dict(co2_lev = co2, time = 0, model = dict_name)] = np.append(np.array(model_dict[dict_name][co2][month].state['Tatm']),\n",
    "                                                         np.array(model_dict[dict_name][co2][month].state['Ts']))\n",
    "            month_ds_dict[month]['heat_capacity'].loc[dict(co2_lev = co2, time = 0, model = dict_name)] = model_dict[dict_name][co2][month].domains['Tatm'].heat_capacity\n",
    "\n",
    "            if 'a' in dict_name:\n",
    "                month_ds_dict[month]['advection'].loc[dict(co2_lev = co2, time = 0, model = dict_name)] = np.append(np.array(model_dict[dict_name][co2][month].subprocess.Advection.forcing_tendencies['Tatm']),\n",
    "                                                         np.array(model_dict[dict_name][co2][month].subprocess.Advection.forcing_tendencies['Ts']))\n",
    "            \n",
    "            if 't' in dict_name:\n",
    "                month_ds_dict[month]['turb_hr'].loc[dict(co2_lev = co2, time = 0, model = dict_name)] = np.append(np.array(model_dict[dict_name][co2][month].diagnostics['turb_atm_hr']),\n",
    "                                                             np.array(model_dict[dict_name][co2][month].diagnostics['turb_ground_hr']))\n",
    "                month_ds_dict[month]['turbulent_flux'].loc[dict(co2_lev = co2, time = 0, model = dict_name)] = (np.array(model_dict[dict_name][co2][month].diagnostics['atm_turbulent_flux']))\n",
    "                month_ds_dict[month]['diffk'].loc[dict(co2_lev = co2, time = 0, model = dict_name)] = np.append(np.array(model_dict[dict_name][co2][month].diagnostics['atm_diffk']),\n",
    "                                                             np.array(model_dict[dict_name][co2][month].diagnostics['surface_diffk']))\n",
    "                month_ds_dict[month]['theta_init'].loc[dict(co2_lev = co2, time = 0, model = dict_name)] = model_dict[dict_name][co2][month].diagnostics['theta_init']\n",
    "                month_ds_dict[month]['theta'].loc[dict(co2_lev = co2, time = 0, model = dict_name)] = model_dict[dict_name][co2][month].diagnostics['theta']\n",
    "                month_ds_dict[month]['turb_atm_hr'].loc[dict(co2_lev = co2, time = 0, model = dict_name)] = model_dict[dict_name][co2][month].diagnostics['turb_atm_hr']\n",
    "\n",
    "            for var in fields_dict.keys():\n",
    "                month_ds_dict[month][var].loc[dict(co2_lev = co2, time = 0, model = dict_name)] = model_dict[dict_name][co2][month].diagnostics[var].to_xarray().data\n"
   ]
  },
  {
   "cell_type": "markdown",
   "metadata": {},
   "source": [
    "### Timestepping"
   ]
  },
  {
   "cell_type": "code",
   "execution_count": 12,
   "metadata": {},
   "outputs": [],
   "source": [
    "#timestepper\n",
    "for month in months:\n",
    "    for dict_name in model_dict.keys():\n",
    "        for co2 in rat_dict.keys():\n",
    "            tmp_model = model_dict[dict_name][co2][month]\n",
    "            for i in range(1,steps):\n",
    "                #step the model forward\n",
    "                tmp_model.step_forward()\n",
    "                if i*timestep in month_ds_dict[month]['time']:\n",
    "                    loc_dict = dict(co2_lev = co2, time = (i*timestep), model = dict_name)\n",
    "                    #assign temperature\n",
    "                    month_ds_dict[month]['T'].loc[loc_dict] = np.append(np.array(tmp_model.state['Tatm']),\n",
    "                                                                 np.array(tmp_model.state['Ts']))\n",
    "                    #assign heat capacity\n",
    "                    month_ds_dict[month]['heat_capacity'].loc[loc_dict] = tmp_model.domains['Tatm'].heat_capacity\n",
    "                    #assign the variables in the 'field dict' which are typical outputs from climlab\n",
    "                    for var in fields_dict.keys():\n",
    "\n",
    "                        month_ds_dict[month][var].loc[loc_dict] = tmp_model.diagnostics[var].to_xarray().data\n",
    "\n",
    "\n",
    "                    #assign the variables in the 'advection' field\n",
    "                    if 'a' in dict_name:\n",
    "\n",
    "                        month_ds_dict[month]['advection'].loc[loc_dict] = np.append(np.array(tmp_model.subprocess.Advection.forcing_tendencies['Tatm']),\n",
    "                                                                 np.array(tmp_model.subprocess.Advection.forcing_tendencies['Ts']))\n",
    "                    #assign the variables in the 'turbulence field'\n",
    "                    if 't' in dict_name:\n",
    "\n",
    "                        # WHY ONLY .to_xarray().data on some of the diagnostics? What is the point of this?\n",
    "                        month_ds_dict[month]['turb_hr'].loc[loc_dict] = np.append(np.array(tmp_model.diagnostics['turb_atm_hr']),\n",
    "                                                                     np.array(tmp_model.diagnostics['turb_ground_hr']))\n",
    "                        month_ds_dict[month]['turbulent_flux'].loc[loc_dict] = np.array(tmp_model.diagnostics['atm_turbulent_flux'])#,\n",
    "                                                                     #np.array(tmp_model.diagnostics['sfc_turbulent_flux']))\n",
    "                        month_ds_dict[month]['diffk'].loc[loc_dict] = np.append(np.array(tmp_model.diagnostics['atm_diffk']),\n",
    "                                                                     np.array(tmp_model.diagnostics['surface_diffk']))\n",
    "                        month_ds_dict[month]['theta_init'].loc[loc_dict] = tmp_model.diagnostics['theta_init']\n",
    "                        month_ds_dict[month]['theta'].loc[loc_dict] = tmp_model.diagnostics['theta']\n",
    "                        month_ds_dict[month]['turb_atm_hr'].loc[loc_dict] = tmp_model.diagnostics['turb_atm_hr']\n",
    "\n"
   ]
  },
  {
   "cell_type": "markdown",
   "metadata": {},
   "source": [
    "month_ds_dict = {} \n",
    "\n",
    "for month in months: \n",
    "    month_ds_dict[month] = xr.open_dataset(f'../output/{month}_300s_43200ts_ds')\n",
    "times = month_ds_dict[month].time.values\n"
   ]
  },
  {
   "cell_type": "markdown",
   "metadata": {},
   "source": [
    "## Calculate the Surface CO2 Effect, Effective Bandwidth"
   ]
  },
  {
   "cell_type": "code",
   "execution_count": 13,
   "metadata": {},
   "outputs": [],
   "source": [
    "#calculate surface CO2 Effect\n",
    "for month in months:\n",
    "    month_ds_dict[month]['sfc_co2_effect'] = (month_ds_dict[month].sel(time = month_ds_dict[month].time.values[-1], model = 'rat').isel(lev_bounds = -1)['LW_flux_down_clr'] -\n",
    "         month_ds_dict[month].sel(time = month_ds_dict[month].time.values[-1], model = 'rat', co2_lev = 0).isel(lev_bounds = -1)['LW_flux_down_clr'])\n",
    "\n",
    "#calculate planck function and effective bandwidth    \n",
    "h = 6.626E-34 #J*S\n",
    "n = 667 #cm\n",
    "kb = 1.38E-23 #J/k\n",
    "c = 2.998E10 #cm/s\n",
    "for month in months:\n",
    "    #planck function\n",
    "    Ta = month_ds_dict[month]['T'].sel(model = 'rat', time = 0).isel(lev_full = -1)\n",
    "    month_ds_dict[month]['planck_function'] = ((2*h*c**2*n**3)/(np.exp((h*c*n)/(kb*Ta)) - 2))*1E4*np.pi\n",
    "    #effective bandwidth\n",
    "    month_ds_dict[month]['eff_bandwidth'] = month_ds_dict[month]['sfc_co2_effect']/month_ds_dict[month]['planck_function']\n",
    "    \n",
    "#effective bandwidth calculated as in Jeevanjee et al (2020, eq. 7)\n",
    "l = 10.4 #cm-1\n",
    "C0 = 0.25\n",
    "C = month_ds_dict['January']['co2_lev'][1:].values*1e6\n",
    "eff_bandwidth_est = 2*l*np.log(C/C0)\n",
    "\n",
    "for month in months:\n",
    "    month_ds_dict[month]['sfc_co2_estimate'] = eff_bandwidth_est*month_ds_dict[month]['planck_function'][1:]\n",
    "    month_ds_dict[month]['eff_bandwidth_est'] = eff_bandwidth_est"
   ]
  },
  {
   "cell_type": "markdown",
   "metadata": {},
   "source": [
    "# Save Output"
   ]
  },
  {
   "cell_type": "code",
   "execution_count": 36,
   "metadata": {},
   "outputs": [],
   "source": [
    "for month in months:\n",
    "    month_ds_dict[month].to_netcdf(f'../output/{month}_{run_name}_ds')"
   ]
  },
  {
   "cell_type": "code",
   "execution_count": null,
   "metadata": {},
   "outputs": [],
   "source": []
  }
 ],
 "metadata": {
  "kernelspec": {
   "display_name": "Python 3",
   "language": "python",
   "name": "python3"
  },
  "language_info": {
   "codemirror_mode": {
    "name": "ipython",
    "version": 3
   },
   "file_extension": ".py",
   "mimetype": "text/x-python",
   "name": "python",
   "nbconvert_exporter": "python",
   "pygments_lexer": "ipython3",
   "version": "3.7.7"
  }
 },
 "nbformat": 4,
 "nbformat_minor": 4
}
