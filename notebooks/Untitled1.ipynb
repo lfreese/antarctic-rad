{
 "cells": [
  {
   "cell_type": "markdown",
   "metadata": {},
   "source": [
    "# Testing Simple Climlab setup"
   ]
  },
  {
   "cell_type": "code",
   "execution_count": 26,
   "metadata": {},
   "outputs": [
    {
     "name": "stdout",
     "output_type": "stream",
     "text": [
      "Opened data from /opt/anaconda3/envs/conda_env/lib/python3.7/site-packages/climlab/radiation/data/ozone/apeozone_cam3_5_54.nc\n",
      "Integrating for 3652 steps, 3652.4220000000005 days, or 10 years.\n",
      "Total elapsed time is 9.998844602294039 years.\n",
      "[-1.30739863e-12]\n"
     ]
    }
   ],
   "source": [
    "import climlab\n",
    "alb = 0.25\n",
    "#  State variables (Air and surface temperature)\n",
    "state = climlab.column_state(num_lev=30)\n",
    "#  Parent model process\n",
    "rcm = climlab.TimeDependentProcess(state=state)\n",
    "#  Fixed relative humidity\n",
    "h2o = climlab.radiation.ManabeWaterVapor(state=state)\n",
    "#  Couple water vapor to radiation\n",
    "rad = climlab.radiation.RRTMG(state=state, specific_humidity=h2o.q, albedo=alb)\n",
    "#  Convective adjustment\n",
    "conv = climlab.convection.ConvectiveAdjustment(state=state, adj_lapse_rate=6.5)\n",
    "#  Couple everything together\n",
    "rcm.add_subprocess('Radiation', rad)\n",
    "#rcm.add_subprocess('WaterVapor', h2o)\n",
    "#rcm.add_subprocess('Convection', conv)\n",
    "#  Run the model\n",
    "rcm.integrate_years(10)\n",
    "#  Check for energy balance\n",
    "print (rcm.ASR - rcm.OLR)"
   ]
  },
  {
   "cell_type": "code",
   "execution_count": 10,
   "metadata": {},
   "outputs": [
    {
     "data": {
      "text/plain": [
       "array([   0.        ,   33.33333333,   66.66666667,  100.        ,\n",
       "        133.33333333,  166.66666667,  200.        ,  233.33333333,\n",
       "        266.66666667,  300.        ,  333.33333333,  366.66666667,\n",
       "        400.        ,  433.33333333,  466.66666667,  500.        ,\n",
       "        533.33333333,  566.66666667,  600.        ,  633.33333333,\n",
       "        666.66666667,  700.        ,  733.33333333,  766.66666667,\n",
       "        800.        ,  833.33333333,  866.66666667,  900.        ,\n",
       "        933.33333333,  966.66666667, 1000.        ])"
      ]
     },
     "execution_count": 10,
     "metadata": {},
     "output_type": "execute_result"
    }
   ],
   "source": [
    "rcm.lev_bounds"
   ]
  },
  {
   "cell_type": "code",
   "execution_count": 16,
   "metadata": {},
   "outputs": [
    {
     "name": "stdout",
     "output_type": "stream",
     "text": [
      "Integrating for 365 steps, 365.2422 days, or 1 years.\n",
      "Total elapsed time is 1.0102885154015608 years.\n"
     ]
    }
   ],
   "source": [
    "rcm.integrate_years(1)"
   ]
  },
  {
   "cell_type": "code",
   "execution_count": 21,
   "metadata": {},
   "outputs": [
    {
     "data": {
      "text/plain": [
       "Field([251.7904242])"
      ]
     },
     "execution_count": 21,
     "metadata": {},
     "output_type": "execute_result"
    }
   ],
   "source": []
  },
  {
   "cell_type": "code",
   "execution_count": 23,
   "metadata": {},
   "outputs": [
    {
     "data": {
      "text/plain": [
       "Field([0.03387265])"
      ]
     },
     "execution_count": 23,
     "metadata": {},
     "output_type": "execute_result"
    }
   ],
   "source": [
    "rcm.ASR - rcm.OLR"
   ]
  },
  {
   "cell_type": "code",
   "execution_count": null,
   "metadata": {},
   "outputs": [],
   "source": []
  }
 ],
 "metadata": {
  "kernelspec": {
   "display_name": "Python 3",
   "language": "python",
   "name": "python3"
  },
  "language_info": {
   "codemirror_mode": {
    "name": "ipython",
    "version": 3
   },
   "file_extension": ".py",
   "mimetype": "text/x-python",
   "name": "python",
   "nbconvert_exporter": "python",
   "pygments_lexer": "ipython3",
   "version": "3.7.5"
  }
 },
 "nbformat": 4,
 "nbformat_minor": 4
}
